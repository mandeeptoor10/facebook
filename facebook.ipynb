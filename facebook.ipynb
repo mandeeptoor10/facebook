{
 "cells": [
  {
   "cell_type": "markdown",
   "id": "1f886ba2",
   "metadata": {},
   "source": [
    "# Data analytics of facebook"
   ]
  },
  {
   "cell_type": "code",
   "execution_count": 13,
   "id": "891c7034",
   "metadata": {},
   "outputs": [],
   "source": [
    "import numpy as np\n",
    "import random \n",
    "import matplotlib.pyplot as plt\n",
    "import seaborn as sns\n",
    "import pandas as pd\n",
    "from sklearn.linear_model import LinearRegression\n",
    "import plotly.express as px\n",
    "import plotly.graph_objects as go\n",
    "from statistics import median, mean, mode"
   ]
  },
  {
   "cell_type": "code",
   "execution_count": 6,
   "id": "e6253729",
   "metadata": {},
   "outputs": [],
   "source": [
    "facebook_data= pd.read_csv('C://Users//mande//OneDrive//Desktop//data_sets/Facebook.csv')"
   ]
  },
  {
   "cell_type": "code",
   "execution_count": 7,
   "id": "b4ea989e",
   "metadata": {},
   "outputs": [
    {
     "data": {
      "text/html": [
       "<div>\n",
       "<style scoped>\n",
       "    .dataframe tbody tr th:only-of-type {\n",
       "        vertical-align: middle;\n",
       "    }\n",
       "\n",
       "    .dataframe tbody tr th {\n",
       "        vertical-align: top;\n",
       "    }\n",
       "\n",
       "    .dataframe thead th {\n",
       "        text-align: right;\n",
       "    }\n",
       "</style>\n",
       "<table border=\"1\" class=\"dataframe\">\n",
       "  <thead>\n",
       "    <tr style=\"text-align: right;\">\n",
       "      <th></th>\n",
       "      <th>userid</th>\n",
       "      <th>age</th>\n",
       "      <th>dob_day</th>\n",
       "      <th>dob_year</th>\n",
       "      <th>dob_month</th>\n",
       "      <th>gender</th>\n",
       "      <th>tenure</th>\n",
       "      <th>friend_count</th>\n",
       "      <th>friendships_initiated</th>\n",
       "      <th>likes</th>\n",
       "      <th>likes_received</th>\n",
       "      <th>mobile_likes</th>\n",
       "      <th>mobile_likes_received</th>\n",
       "      <th>www_likes</th>\n",
       "      <th>www_likes_received</th>\n",
       "    </tr>\n",
       "  </thead>\n",
       "  <tbody>\n",
       "    <tr>\n",
       "      <th>0</th>\n",
       "      <td>2094382</td>\n",
       "      <td>14</td>\n",
       "      <td>19</td>\n",
       "      <td>1999</td>\n",
       "      <td>11</td>\n",
       "      <td>male</td>\n",
       "      <td>266.0</td>\n",
       "      <td>0</td>\n",
       "      <td>0</td>\n",
       "      <td>0</td>\n",
       "      <td>0</td>\n",
       "      <td>0</td>\n",
       "      <td>0</td>\n",
       "      <td>0</td>\n",
       "      <td>0</td>\n",
       "    </tr>\n",
       "    <tr>\n",
       "      <th>1</th>\n",
       "      <td>1192601</td>\n",
       "      <td>14</td>\n",
       "      <td>2</td>\n",
       "      <td>1999</td>\n",
       "      <td>11</td>\n",
       "      <td>female</td>\n",
       "      <td>6.0</td>\n",
       "      <td>0</td>\n",
       "      <td>0</td>\n",
       "      <td>0</td>\n",
       "      <td>0</td>\n",
       "      <td>0</td>\n",
       "      <td>0</td>\n",
       "      <td>0</td>\n",
       "      <td>0</td>\n",
       "    </tr>\n",
       "    <tr>\n",
       "      <th>2</th>\n",
       "      <td>2083884</td>\n",
       "      <td>14</td>\n",
       "      <td>16</td>\n",
       "      <td>1999</td>\n",
       "      <td>11</td>\n",
       "      <td>male</td>\n",
       "      <td>13.0</td>\n",
       "      <td>0</td>\n",
       "      <td>0</td>\n",
       "      <td>0</td>\n",
       "      <td>0</td>\n",
       "      <td>0</td>\n",
       "      <td>0</td>\n",
       "      <td>0</td>\n",
       "      <td>0</td>\n",
       "    </tr>\n",
       "    <tr>\n",
       "      <th>3</th>\n",
       "      <td>1203168</td>\n",
       "      <td>14</td>\n",
       "      <td>25</td>\n",
       "      <td>1999</td>\n",
       "      <td>12</td>\n",
       "      <td>female</td>\n",
       "      <td>93.0</td>\n",
       "      <td>0</td>\n",
       "      <td>0</td>\n",
       "      <td>0</td>\n",
       "      <td>0</td>\n",
       "      <td>0</td>\n",
       "      <td>0</td>\n",
       "      <td>0</td>\n",
       "      <td>0</td>\n",
       "    </tr>\n",
       "    <tr>\n",
       "      <th>4</th>\n",
       "      <td>1733186</td>\n",
       "      <td>14</td>\n",
       "      <td>4</td>\n",
       "      <td>1999</td>\n",
       "      <td>12</td>\n",
       "      <td>male</td>\n",
       "      <td>82.0</td>\n",
       "      <td>0</td>\n",
       "      <td>0</td>\n",
       "      <td>0</td>\n",
       "      <td>0</td>\n",
       "      <td>0</td>\n",
       "      <td>0</td>\n",
       "      <td>0</td>\n",
       "      <td>0</td>\n",
       "    </tr>\n",
       "    <tr>\n",
       "      <th>...</th>\n",
       "      <td>...</td>\n",
       "      <td>...</td>\n",
       "      <td>...</td>\n",
       "      <td>...</td>\n",
       "      <td>...</td>\n",
       "      <td>...</td>\n",
       "      <td>...</td>\n",
       "      <td>...</td>\n",
       "      <td>...</td>\n",
       "      <td>...</td>\n",
       "      <td>...</td>\n",
       "      <td>...</td>\n",
       "      <td>...</td>\n",
       "      <td>...</td>\n",
       "      <td>...</td>\n",
       "    </tr>\n",
       "    <tr>\n",
       "      <th>98998</th>\n",
       "      <td>1268299</td>\n",
       "      <td>68</td>\n",
       "      <td>4</td>\n",
       "      <td>1945</td>\n",
       "      <td>4</td>\n",
       "      <td>female</td>\n",
       "      <td>541.0</td>\n",
       "      <td>2118</td>\n",
       "      <td>341</td>\n",
       "      <td>3996</td>\n",
       "      <td>18089</td>\n",
       "      <td>3505</td>\n",
       "      <td>11887</td>\n",
       "      <td>491</td>\n",
       "      <td>6202</td>\n",
       "    </tr>\n",
       "    <tr>\n",
       "      <th>98999</th>\n",
       "      <td>1256153</td>\n",
       "      <td>18</td>\n",
       "      <td>12</td>\n",
       "      <td>1995</td>\n",
       "      <td>3</td>\n",
       "      <td>female</td>\n",
       "      <td>21.0</td>\n",
       "      <td>1968</td>\n",
       "      <td>1720</td>\n",
       "      <td>4401</td>\n",
       "      <td>13412</td>\n",
       "      <td>4399</td>\n",
       "      <td>10592</td>\n",
       "      <td>2</td>\n",
       "      <td>2820</td>\n",
       "    </tr>\n",
       "    <tr>\n",
       "      <th>99000</th>\n",
       "      <td>1195943</td>\n",
       "      <td>15</td>\n",
       "      <td>10</td>\n",
       "      <td>1998</td>\n",
       "      <td>5</td>\n",
       "      <td>female</td>\n",
       "      <td>111.0</td>\n",
       "      <td>2002</td>\n",
       "      <td>1524</td>\n",
       "      <td>11959</td>\n",
       "      <td>12554</td>\n",
       "      <td>11959</td>\n",
       "      <td>11462</td>\n",
       "      <td>0</td>\n",
       "      <td>1092</td>\n",
       "    </tr>\n",
       "    <tr>\n",
       "      <th>99001</th>\n",
       "      <td>1468023</td>\n",
       "      <td>23</td>\n",
       "      <td>11</td>\n",
       "      <td>1990</td>\n",
       "      <td>4</td>\n",
       "      <td>female</td>\n",
       "      <td>416.0</td>\n",
       "      <td>2560</td>\n",
       "      <td>185</td>\n",
       "      <td>4506</td>\n",
       "      <td>6516</td>\n",
       "      <td>4506</td>\n",
       "      <td>5760</td>\n",
       "      <td>0</td>\n",
       "      <td>756</td>\n",
       "    </tr>\n",
       "    <tr>\n",
       "      <th>99002</th>\n",
       "      <td>1397896</td>\n",
       "      <td>39</td>\n",
       "      <td>15</td>\n",
       "      <td>1974</td>\n",
       "      <td>5</td>\n",
       "      <td>female</td>\n",
       "      <td>397.0</td>\n",
       "      <td>2049</td>\n",
       "      <td>768</td>\n",
       "      <td>9410</td>\n",
       "      <td>12443</td>\n",
       "      <td>9410</td>\n",
       "      <td>9530</td>\n",
       "      <td>0</td>\n",
       "      <td>2913</td>\n",
       "    </tr>\n",
       "  </tbody>\n",
       "</table>\n",
       "<p>99003 rows × 15 columns</p>\n",
       "</div>"
      ],
      "text/plain": [
       "        userid  age  dob_day  dob_year  dob_month  gender  tenure  \\\n",
       "0      2094382   14       19      1999         11    male   266.0   \n",
       "1      1192601   14        2      1999         11  female     6.0   \n",
       "2      2083884   14       16      1999         11    male    13.0   \n",
       "3      1203168   14       25      1999         12  female    93.0   \n",
       "4      1733186   14        4      1999         12    male    82.0   \n",
       "...        ...  ...      ...       ...        ...     ...     ...   \n",
       "98998  1268299   68        4      1945          4  female   541.0   \n",
       "98999  1256153   18       12      1995          3  female    21.0   \n",
       "99000  1195943   15       10      1998          5  female   111.0   \n",
       "99001  1468023   23       11      1990          4  female   416.0   \n",
       "99002  1397896   39       15      1974          5  female   397.0   \n",
       "\n",
       "       friend_count  friendships_initiated  likes  likes_received  \\\n",
       "0                 0                      0      0               0   \n",
       "1                 0                      0      0               0   \n",
       "2                 0                      0      0               0   \n",
       "3                 0                      0      0               0   \n",
       "4                 0                      0      0               0   \n",
       "...             ...                    ...    ...             ...   \n",
       "98998          2118                    341   3996           18089   \n",
       "98999          1968                   1720   4401           13412   \n",
       "99000          2002                   1524  11959           12554   \n",
       "99001          2560                    185   4506            6516   \n",
       "99002          2049                    768   9410           12443   \n",
       "\n",
       "       mobile_likes  mobile_likes_received  www_likes  www_likes_received  \n",
       "0                 0                      0          0                   0  \n",
       "1                 0                      0          0                   0  \n",
       "2                 0                      0          0                   0  \n",
       "3                 0                      0          0                   0  \n",
       "4                 0                      0          0                   0  \n",
       "...             ...                    ...        ...                 ...  \n",
       "98998          3505                  11887        491                6202  \n",
       "98999          4399                  10592          2                2820  \n",
       "99000         11959                  11462          0                1092  \n",
       "99001          4506                   5760          0                 756  \n",
       "99002          9410                   9530          0                2913  \n",
       "\n",
       "[99003 rows x 15 columns]"
      ]
     },
     "execution_count": 7,
     "metadata": {},
     "output_type": "execute_result"
    }
   ],
   "source": [
    "df = pd.DataFrame(facebook_data)\n",
    "df"
   ]
  },
  {
   "cell_type": "markdown",
   "id": "84dc9d00",
   "metadata": {},
   "source": [
    "#   which age group using maximum accounts"
   ]
  },
  {
   "cell_type": "markdown",
   "id": "332a7b45",
   "metadata": {},
   "source": [
    "find median, mode and mean"
   ]
  },
  {
   "cell_type": "code",
   "execution_count": 26,
   "id": "12349190",
   "metadata": {},
   "outputs": [],
   "source": [
    "age= df['age']"
   ]
  },
  {
   "cell_type": "code",
   "execution_count": 27,
   "id": "11c61341",
   "metadata": {},
   "outputs": [
    {
     "name": "stdout",
     "output_type": "stream",
     "text": [
      "mode age 18\n"
     ]
    }
   ],
   "source": [
    "mode_age = mode(age)\n",
    "print('mode age', mode_age)"
   ]
  },
  {
   "cell_type": "markdown",
   "id": "ada0a492",
   "metadata": {},
   "source": [
    "According to the data set, the mode of Facebook account holders' ages is 18, indicating that the highest number of users falls within the 18-year-old age group. This suggests a significant concentration of accounts in this specific age category, reflecting a prominent demographic among Facebook users."
   ]
  },
  {
   "cell_type": "markdown",
   "id": "924ebcb3",
   "metadata": {},
   "source": [
    "# male or female "
   ]
  },
  {
   "cell_type": "code",
   "execution_count": 36,
   "id": "6a01ad83",
   "metadata": {},
   "outputs": [],
   "source": [
    "gender = df['gender']"
   ]
  },
  {
   "cell_type": "code",
   "execution_count": 46,
   "id": "d5f61add",
   "metadata": {},
   "outputs": [
    {
     "data": {
      "image/png": "[encoded data removed]",
      "text/plain": [
       "<Figure size 504x504 with 1 Axes>"
      ]
     },
     "metadata": {},
     "output_type": "display_data"
    }
   ],
   "source": [
    "# Count each gender\n",
    "gender_counts = gender.value_counts()\n",
    "# a pie chart using Seaborn\n",
    "plt.figure(figsize=(7, 7))  # Set the size \n",
    "sns.set_palette(\"Set1\")  # Set the color palette\n",
    "plt.pie(gender_counts, labels=gender_counts.index, autopct='%2.2f%%')\n",
    "plt.title(\"Gender Distribution\")\n",
    "# Display\n",
    "plt.show()"
   ]
  },
  {
   "cell_type": "markdown",
   "id": "740f2494",
   "metadata": {},
   "source": [
    "accourding to the chart more male are using facebook with 59%, where as 40% females using facebook "
   ]
  },
  {
   "cell_type": "code",
   "execution_count": 47,
   "id": "db6bbc08",
   "metadata": {},
   "outputs": [],
   "source": [
    "friend_count = df['friend_count']"
   ]
  },
  {
   "cell_type": "markdown",
   "id": "0fe591ea",
   "metadata": {},
   "source": [
    "# which gender have more friends"
   ]
  },
  {
   "cell_type": "code",
   "execution_count": 51,
   "id": "27532d33",
   "metadata": {},
   "outputs": [
    {
     "data": {
      "text/plain": [
       "gender\n",
       "female    241.969941\n",
       "male      165.035459\n",
       "Name: friend_count, dtype: float64"
      ]
     },
     "execution_count": 51,
     "metadata": {},
     "output_type": "execute_result"
    }
   ],
   "source": [
    "# Group the data by gender and calculate the mean friend count for each group\n",
    "grouped_data = df.groupby('gender')['friend_count'].mean()\n",
    "grouped_data "
   ]
  },
  {
   "cell_type": "code",
   "execution_count": 52,
   "id": "be8d04c3",
   "metadata": {},
   "outputs": [
    {
     "data": {
      "image/png": "[encoded data removed]",
      "text/plain": [
       "<Figure size 432x432 with 1 Axes>"
      ]
     },
     "metadata": {
      "needs_background": "light"
     },
     "output_type": "display_data"
    }
   ],
   "source": [
    "# Create a bar plot to compare the average friend count by gender\n",
    "plt.figure(figsize=(6, 6))  # Set the size of the plot\n",
    "sns.barplot(x=grouped_data.index, y=grouped_data.values)\n",
    "plt.xlabel('Gender')\n",
    "plt.ylabel('Average Friend Count')\n",
    "plt.title('Comparison of Average Friend Count by Gender')\n",
    "\n",
    "# Display the plot\n",
    "plt.show()"
   ]
  },
  {
   "cell_type": "markdown",
   "id": "5ddeba6c",
   "metadata": {},
   "source": [
    "Females have more friends than males, according to a comparison of average friend counts by gender in the given dataset. This conclusion is obtained from the bar plot, which shows that girls have more friendswith ave count(241.969941) than guys with(165.035459) . It is crucial to highlight, however, that this finding is exclusive to the dataset utilized for research and may not be generalizable to the entire population."
   ]
  },
  {
   "cell_type": "markdown",
   "id": "7d57ac0e",
   "metadata": {},
   "source": [
    "# like others pics "
   ]
  },
  {
   "cell_type": "code",
   "execution_count": 53,
   "id": "e21195a7",
   "metadata": {},
   "outputs": [
    {
     "data": {
      "text/plain": [
       "gender\n",
       "female    260.051324\n",
       "male       84.677895\n",
       "Name: likes, dtype: float64"
      ]
     },
     "execution_count": 53,
     "metadata": {},
     "output_type": "execute_result"
    }
   ],
   "source": [
    "like_by_gender = df.groupby('gender')['likes'].mean()\n",
    "like_by_gender"
   ]
  },
  {
   "cell_type": "code",
   "execution_count": 55,
   "id": "afd51d6b",
   "metadata": {},
   "outputs": [
    {
     "data": {
      "image/png": "[encoded data removed]",
      "text/plain": [
       "<Figure size 432x288 with 1 Axes>"
      ]
     },
     "metadata": {
      "needs_background": "light"
     },
     "output_type": "display_data"
    }
   ],
   "source": [
    "# plt.figure(figsize=(6, 6))  # Set the size of the plot\n",
    "sns.barplot(x=like_by_gender.index, y=like_by_gender.values)\n",
    "plt.xlabel('Gender')\n",
    "plt.ylabel('Average likes ')\n",
    "plt.title('Comparison of Average likes Count by Gender')\n",
    "\n",
    "# Display the plot\n",
    "plt.show()"
   ]
  },
  {
   "cell_type": "markdown",
   "id": "9ac4144d",
   "metadata": {},
   "source": [
    "According to the study of the given dataset, ladies have a much higher average like count on Facebook than males. Females have roughly 260 like on average, while males have approximately 85 like. This suggests that females have a wider social network and may participate in more extended social interactions on the site. It is crucial to highlight that these findings are limited to the dataset and may not apply to the general population. Individual tastes, use habits, and the form of social ties can all have an impact on these outcomes."
   ]
  },
  {
   "cell_type": "markdown",
   "id": "ec74fe09",
   "metadata": {},
   "source": [
    "# likes_received"
   ]
  },
  {
   "cell_type": "code",
   "execution_count": 59,
   "id": "6b8001e4",
   "metadata": {},
   "outputs": [
    {
     "data": {
      "text/plain": [
       "gender\n",
       "female    251.435435\n",
       "male       67.911548\n",
       "Name: likes_received, dtype: float64"
      ]
     },
     "execution_count": 59,
     "metadata": {},
     "output_type": "execute_result"
    }
   ],
   "source": [
    "likes_received = df.groupby('gender')['likes_received'].mean()\n",
    "likes_received"
   ]
  },
  {
   "cell_type": "code",
   "execution_count": 69,
   "id": "0aa334e5",
   "metadata": {},
   "outputs": [
    {
     "data": {
      "image/png": "[encoded data removed]",
      "text/plain": [
       "<Figure size 576x432 with 1 Axes>"
      ]
     },
     "metadata": {
      "needs_background": "light"
     },
     "output_type": "display_data"
    }
   ],
   "source": [
    "plt.figure(figsize=(8, 6))  # Set the size of the graph\n",
    "# Violin plot\n",
    "sns.violinplot(x=likes_received.index, y=likes_received.values, palette='Set3')\n",
    "# Set labels and title\n",
    "plt.xlabel('Gender')\n",
    "plt.ylabel('Average Likes Received')\n",
    "plt.title('Average Likes Received by Gender')\n",
    "# Display \n",
    "plt.show()"
   ]
  },
  {
   "cell_type": "markdown",
   "id": "bd75f6d6",
   "metadata": {},
   "source": [
    "Females have an average of 251.44 likes, while males have an average of 67.91 likes, according to the 'likes_received' statistics for each gender. This indicates that girls obtain more likes than guys."
   ]
  },
  {
   "cell_type": "code",
   "execution_count": null,
   "id": "a7a02092",
   "metadata": {},
   "outputs": [],
   "source": []
  }
 ],
 "metadata": {
  "kernelspec": {
   "display_name": "Python 3 (ipykernel)",
   "language": "python",
   "name": "python3"
  },
  "language_info": {
   "codemirror_mode": {
    "name": "ipython",
    "version": 3
   },
   "file_extension": ".py",
   "mimetype": "text/x-python",
   "name": "python",
   "nbconvert_exporter": "python",
   "pygments_lexer": "ipython3",
   "version": "3.9.12"
  }
 },
 "nbformat": 4,
 "nbformat_minor": 5
}
